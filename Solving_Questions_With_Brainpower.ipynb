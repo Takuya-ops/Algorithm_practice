{
  "cells": [
    {
      "cell_type": "code",
      "execution_count": 1,
      "metadata": {
        "id": "AG0mrcAvZ0xy"
      },
      "outputs": [],
      "source": [
        "from typing import List\n",
        "\n",
        "class Solution:\n",
        "    def mostPoints(self, questions: List[List[int]]) -> int:\n",
        "        # ポイントとスキップ数の組の数\n",
        "        n =len(questions)\n",
        "        # 組の数の分だけ０を持つリストを作成\n",
        "        dp = [0] * n\n",
        "        # 作成したリストの末尾を、与えられた配列（question）の末尾の組の1つ目の値で置き換える。（ポイントのみを作成したリストに入れる）\n",
        "        dp[-1] = questions[-1][0]\n",
        "        # 0~2のインデックスについてもポイントを入れる（最後の組については、スキップできないため含めない）\n",
        "        for i in range(n - 2, -1, -1):\n",
        "            dp[i] = questions[i][0]\n",
        "            skip = questions[i][1]\n",
        "            if i + skip + 1 < n:\n",
        "                dp[i] += dp[i + skip + 1]\n",
        "\n",
        "            dp[i] = max(dp[i], dp[i + 1])\n",
        "        return dp[0]"
      ]
    },
    {
      "cell_type": "code",
      "execution_count": 5,
      "metadata": {
        "id": "dmuK3wp4Z3CD"
      },
      "outputs": [],
      "source": [
        "questions = [[3,2], [4,3], [4,4], [2,5]]"
      ]
    },
    {
      "cell_type": "code",
      "execution_count": 6,
      "metadata": {
        "colab": {
          "base_uri": "https://localhost:8080/"
        },
        "id": "4SP0LdB7Z_3X",
        "outputId": "c864e29e-8ae0-4374-cc6f-cfb726191468"
      },
      "outputs": [
        {
          "data": {
            "text/plain": [
              "5"
            ]
          },
          "execution_count": 6,
          "metadata": {},
          "output_type": "execute_result"
        }
      ],
      "source": [
        "Solution().mostPoints(questions)"
      ]
    },
    {
      "cell_type": "code",
      "execution_count": 8,
      "metadata": {
        "colab": {
          "base_uri": "https://localhost:8080/"
        },
        "id": "r7ncCFfSaN7Y",
        "outputId": "ccc5dee0-f013-4493-a835-e4866cac406f"
      },
      "outputs": [
        {
          "data": {
            "text/plain": [
              "4"
            ]
          },
          "execution_count": 8,
          "metadata": {},
          "output_type": "execute_result"
        }
      ],
      "source": [
        "n =len(questions)\n",
        "n"
      ]
    },
    {
      "cell_type": "code",
      "execution_count": 10,
      "metadata": {
        "colab": {
          "base_uri": "https://localhost:8080/"
        },
        "id": "FTaSVrhKaVbR",
        "outputId": "b2cdd9d7-1d73-4af9-bab3-04a3a90e6e52"
      },
      "outputs": [
        {
          "data": {
            "text/plain": [
              "[0, 0, 0, 0]"
            ]
          },
          "execution_count": 10,
          "metadata": {},
          "output_type": "execute_result"
        }
      ],
      "source": [
        "dp = [0] * n\n",
        "dp"
      ]
    },
    {
      "cell_type": "code",
      "execution_count": 11,
      "metadata": {
        "colab": {
          "base_uri": "https://localhost:8080/"
        },
        "id": "MbOLosouaqB_",
        "outputId": "9be31621-72f0-4e2a-ce5f-3ae17c9cd931"
      },
      "outputs": [
        {
          "data": {
            "text/plain": [
              "0"
            ]
          },
          "execution_count": 11,
          "metadata": {},
          "output_type": "execute_result"
        }
      ],
      "source": [
        "dp[-1]"
      ]
    },
    {
      "cell_type": "code",
      "execution_count": 16,
      "metadata": {
        "colab": {
          "base_uri": "https://localhost:8080/"
        },
        "id": "1xLS9XygbHGJ",
        "outputId": "448578e4-fe07-4ce8-dbb5-d53053d2b105"
      },
      "outputs": [
        {
          "data": {
            "text/plain": [
              "2"
            ]
          },
          "execution_count": 16,
          "metadata": {},
          "output_type": "execute_result"
        }
      ],
      "source": [
        "question[-1][0]"
      ]
    },
    {
      "cell_type": "code",
      "execution_count": 17,
      "metadata": {
        "colab": {
          "base_uri": "https://localhost:8080/"
        },
        "id": "lxQG3_7AbMJU",
        "outputId": "31d7b95e-708c-4d5e-bf0a-3d7ca0ce6799"
      },
      "outputs": [
        {
          "name": "stdout",
          "output_type": "stream",
          "text": [
            "2\n",
            "1\n",
            "0\n"
          ]
        }
      ],
      "source": [
        "for i in range(n - 2, -1, -1):\n",
        "    print(i)"
      ]
    },
    {
      "cell_type": "code",
      "execution_count": 20,
      "metadata": {
        "colab": {
          "base_uri": "https://localhost:8080/"
        },
        "id": "u_LFT85vb4j_",
        "outputId": "63deb801-4d16-48fe-df3a-958b5ca1bab5"
      },
      "outputs": [
        {
          "name": "stdout",
          "output_type": "stream",
          "text": [
            "0\n",
            "1\n"
          ]
        }
      ],
      "source": [
        "for i in range(n - 2):\n",
        "    print(i)"
      ]
    },
    {
      "cell_type": "code",
      "execution_count": 22,
      "metadata": {
        "colab": {
          "base_uri": "https://localhost:8080/"
        },
        "id": "ppjK2j6ucA70",
        "outputId": "35fa1e36-1b14-41e6-e357-b01a3d3403ca"
      },
      "outputs": [
        {
          "name": "stdout",
          "output_type": "stream",
          "text": [
            "2\n",
            "1\n",
            "0\n",
            "-1\n",
            "-2\n"
          ]
        }
      ],
      "source": [
        "for i in range(n - 2, -3, -1):\n",
        "    print(i)"
      ]
    },
    {
      "cell_type": "code",
      "execution_count": 23,
      "metadata": {
        "colab": {
          "base_uri": "https://localhost:8080/"
        },
        "id": "6stR6m1WcKU4",
        "outputId": "2977f553-d9d4-4a3f-d2ba-94357b6e3dc7"
      },
      "outputs": [
        {
          "name": "stdout",
          "output_type": "stream",
          "text": [
            "-1\n",
            "-3\n",
            "-5\n",
            "-7\n",
            "-9\n",
            "-11\n",
            "-13\n"
          ]
        }
      ],
      "source": [
        "for i in range(n - 5, -15, -2):\n",
        "    print(i)"
      ]
    },
    {
      "cell_type": "code",
      "execution_count": 24,
      "metadata": {
        "colab": {
          "base_uri": "https://localhost:8080/"
        },
        "id": "hVHEWR_gcvZp",
        "outputId": "5f038c37-5683-4c2f-921e-62c07fd269e6"
      },
      "outputs": [
        {
          "data": {
            "text/plain": [
              "0"
            ]
          },
          "execution_count": 24,
          "metadata": {},
          "output_type": "execute_result"
        }
      ],
      "source": [
        "dp[2]"
      ]
    },
    {
      "cell_type": "code",
      "execution_count": 25,
      "metadata": {
        "colab": {
          "base_uri": "https://localhost:8080/"
        },
        "id": "X6-tuGLwca3l",
        "outputId": "14ce5c7c-a1ec-4e3f-fe3d-08b42c6b0b5d"
      },
      "outputs": [
        {
          "data": {
            "text/plain": [
              "4"
            ]
          },
          "execution_count": 25,
          "metadata": {},
          "output_type": "execute_result"
        }
      ],
      "source": [
        "questions[2][0]"
      ]
    },
    {
      "cell_type": "code",
      "execution_count": 26,
      "metadata": {
        "colab": {
          "base_uri": "https://localhost:8080/"
        },
        "id": "GFPRSOf3cwx-",
        "outputId": "dc9c78bd-5f63-4595-dbc3-b5c91642c024"
      },
      "outputs": [
        {
          "data": {
            "text/plain": [
              "0"
            ]
          },
          "execution_count": 26,
          "metadata": {},
          "output_type": "execute_result"
        }
      ],
      "source": [
        "dp[1]"
      ]
    },
    {
      "cell_type": "code",
      "execution_count": 27,
      "metadata": {
        "colab": {
          "base_uri": "https://localhost:8080/"
        },
        "id": "OTk6oCoSczHC",
        "outputId": "d628770f-19fa-4c8e-bbf1-9c39a9c5cae0"
      },
      "outputs": [
        {
          "data": {
            "text/plain": [
              "4"
            ]
          },
          "execution_count": 27,
          "metadata": {},
          "output_type": "execute_result"
        }
      ],
      "source": [
        "questions[1][0]"
      ]
    },
    {
      "cell_type": "code",
      "execution_count": 28,
      "metadata": {
        "colab": {
          "base_uri": "https://localhost:8080/"
        },
        "id": "ccqlytfMc2DT",
        "outputId": "7208c872-9e40-4baf-80f4-27136d5090c6"
      },
      "outputs": [
        {
          "data": {
            "text/plain": [
              "0"
            ]
          },
          "execution_count": 28,
          "metadata": {},
          "output_type": "execute_result"
        }
      ],
      "source": [
        "dp[0]"
      ]
    },
    {
      "cell_type": "code",
      "execution_count": 29,
      "metadata": {
        "colab": {
          "base_uri": "https://localhost:8080/"
        },
        "id": "uK6jkDWmc6Ey",
        "outputId": "1add20bc-6824-49e5-f5a3-43d0f0008683"
      },
      "outputs": [
        {
          "data": {
            "text/plain": [
              "3"
            ]
          },
          "execution_count": 29,
          "metadata": {},
          "output_type": "execute_result"
        }
      ],
      "source": [
        "questions[0][0]"
      ]
    },
    {
      "cell_type": "code",
      "execution_count": 30,
      "metadata": {
        "colab": {
          "base_uri": "https://localhost:8080/"
        },
        "id": "Wxc9C_0Bc9fv",
        "outputId": "9c54f504-2d7f-4419-ac57-9c59d9796398"
      },
      "outputs": [
        {
          "data": {
            "text/plain": [
              "4"
            ]
          },
          "execution_count": 30,
          "metadata": {},
          "output_type": "execute_result"
        }
      ],
      "source": [
        "# skip\n",
        "questions[2][1]"
      ]
    },
    {
      "cell_type": "code",
      "execution_count": null,
      "metadata": {
        "id": "OaH8ZIgqdsLZ"
      },
      "outputs": [],
      "source": [
        "if 7 < n:\n",
        "                dp[2] += dp[7]"
      ]
    },
    {
      "cell_type": "code",
      "execution_count": 32,
      "metadata": {
        "colab": {
          "base_uri": "https://localhost:8080/"
        },
        "id": "Gx_vfR9cePPo",
        "outputId": "420df789-503e-4b03-956e-63a8db2f3615"
      },
      "outputs": [
        {
          "data": {
            "text/plain": [
              "0"
            ]
          },
          "execution_count": 32,
          "metadata": {},
          "output_type": "execute_result"
        }
      ],
      "source": [
        "max(dp[2], dp[3])"
      ]
    },
    {
      "cell_type": "code",
      "execution_count": 34,
      "metadata": {
        "colab": {
          "base_uri": "https://localhost:8080/"
        },
        "id": "wVqnV8_ZeWmR",
        "outputId": "4f3f59d8-0536-46ba-8419-11cc8846a8cf"
      },
      "outputs": [
        {
          "data": {
            "text/plain": [
              "4"
            ]
          },
          "execution_count": 34,
          "metadata": {},
          "output_type": "execute_result"
        }
      ],
      "source": [
        "n =len(questions)\n",
        "n"
      ]
    },
    {
      "cell_type": "code",
      "execution_count": 35,
      "metadata": {
        "colab": {
          "base_uri": "https://localhost:8080/"
        },
        "id": "q22JtRYjecDJ",
        "outputId": "06e89c1c-8b96-4c3d-ecdb-4ca936999975"
      },
      "outputs": [
        {
          "data": {
            "text/plain": [
              "[0, 0, 0, 0]"
            ]
          },
          "execution_count": 35,
          "metadata": {},
          "output_type": "execute_result"
        }
      ],
      "source": [
        "dp = [0] * n\n",
        "dp"
      ]
    },
    {
      "cell_type": "code",
      "execution_count": 36,
      "metadata": {
        "colab": {
          "base_uri": "https://localhost:8080/"
        },
        "id": "GnY3MjEVef9S",
        "outputId": "93171fc9-bc9e-4d21-c72d-e6e628227f5b"
      },
      "outputs": [
        {
          "data": {
            "text/plain": [
              "2"
            ]
          },
          "execution_count": 36,
          "metadata": {},
          "output_type": "execute_result"
        }
      ],
      "source": [
        "dp[-1] = questions[-1][0]\n",
        "dp[-1]"
      ]
    },
    {
      "cell_type": "code",
      "execution_count": 37,
      "metadata": {
        "colab": {
          "base_uri": "https://localhost:8080/"
        },
        "id": "JExG0qyMelMd",
        "outputId": "21a51b38-9121-4743-cae1-48b5f1725c68"
      },
      "outputs": [
        {
          "data": {
            "text/plain": [
              "4"
            ]
          },
          "execution_count": 37,
          "metadata": {},
          "output_type": "execute_result"
        }
      ],
      "source": [
        "dp[2] = questions[2][0]\n",
        "dp[2]"
      ]
    },
    {
      "cell_type": "code",
      "execution_count": 39,
      "metadata": {
        "colab": {
          "base_uri": "https://localhost:8080/"
        },
        "id": "didpHaOufEHo",
        "outputId": "974a6aa7-bfaf-487b-839d-928b5017f182"
      },
      "outputs": [
        {
          "data": {
            "text/plain": [
              "4"
            ]
          },
          "execution_count": 39,
          "metadata": {},
          "output_type": "execute_result"
        }
      ],
      "source": [
        "skip = questions[2][1]\n",
        "skip"
      ]
    },
    {
      "cell_type": "code",
      "execution_count": null,
      "metadata": {
        "id": "Qw7nZ5YMfH2Z"
      },
      "outputs": [],
      "source": [
        "if 7 < n:\n",
        "    dp[i] += dp[i + skip + 1]"
      ]
    },
    {
      "cell_type": "code",
      "execution_count": 41,
      "metadata": {
        "colab": {
          "base_uri": "https://localhost:8080/"
        },
        "id": "rs2jZH8hfu8l",
        "outputId": "cedfdc8a-671b-489a-91c7-4d45636728b3"
      },
      "outputs": [
        {
          "data": {
            "text/plain": [
              "4"
            ]
          },
          "execution_count": 41,
          "metadata": {},
          "output_type": "execute_result"
        }
      ],
      "source": [
        "dp[2] = max(dp[2], dp[3])\n",
        "dp[2]"
      ]
    },
    {
      "cell_type": "code",
      "execution_count": 42,
      "metadata": {
        "colab": {
          "base_uri": "https://localhost:8080/"
        },
        "id": "ULv4PXW-fxWr",
        "outputId": "ddbbeef8-751b-4f29-91fb-f68e7b5dbce4"
      },
      "outputs": [
        {
          "data": {
            "text/plain": [
              "0"
            ]
          },
          "execution_count": 42,
          "metadata": {},
          "output_type": "execute_result"
        }
      ],
      "source": [
        "dp[0]"
      ]
    },
    {
      "cell_type": "code",
      "execution_count": null,
      "metadata": {
        "id": "0NX9ddDmgI4w"
      },
      "outputs": [],
      "source": []
    }
  ],
  "metadata": {
    "colab": {
      "provenance": []
    },
    "kernelspec": {
      "display_name": "Python 3",
      "name": "python3"
    },
    "language_info": {
      "name": "python"
    }
  },
  "nbformat": 4,
  "nbformat_minor": 0
}
