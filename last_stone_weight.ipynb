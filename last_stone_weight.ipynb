{
  "nbformat": 4,
  "nbformat_minor": 0,
  "metadata": {
    "colab": {
      "provenance": []
    },
    "kernelspec": {
      "name": "python3",
      "display_name": "Python 3"
    },
    "language_info": {
      "name": "python"
    }
  },
  "cells": [
    {
      "cell_type": "code",
      "execution_count": 56,
      "metadata": {
        "id": "8VmBNGthr-c6"
      },
      "outputs": [],
      "source": [
        "stones = [1,2,3,4,5,6,7,8,9,12,10]"
      ]
    },
    {
      "cell_type": "code",
      "source": [
        "# 対象の数字が入っているインデックス番号を返す\n",
        "stones.index(12)"
      ],
      "metadata": {
        "colab": {
          "base_uri": "https://localhost:8080/"
        },
        "id": "4LMhsFyKsBwX",
        "outputId": "da13b635-42e0-404a-a617-ae393b2e4fa9"
      },
      "execution_count": 57,
      "outputs": [
        {
          "output_type": "execute_result",
          "data": {
            "text/plain": [
              "9"
            ]
          },
          "metadata": {},
          "execution_count": 57
        }
      ]
    },
    {
      "cell_type": "code",
      "source": [
        "# 最大値を返す\n",
        "max(stones)"
      ],
      "metadata": {
        "colab": {
          "base_uri": "https://localhost:8080/"
        },
        "id": "1henjuhfsJj4",
        "outputId": "94d00f06-066a-451e-ba30-9b0415e15ec4"
      },
      "execution_count": 58,
      "outputs": [
        {
          "output_type": "execute_result",
          "data": {
            "text/plain": [
              "12"
            ]
          },
          "metadata": {},
          "execution_count": 58
        }
      ]
    },
    {
      "cell_type": "code",
      "source": [
        "stones[-1]"
      ],
      "metadata": {
        "colab": {
          "base_uri": "https://localhost:8080/"
        },
        "id": "Bnk0yD3PsOKA",
        "outputId": "cbdd1b43-bc56-4e5f-d3d9-1060a5668b65"
      },
      "execution_count": 59,
      "outputs": [
        {
          "output_type": "execute_result",
          "data": {
            "text/plain": [
              "10"
            ]
          },
          "metadata": {},
          "execution_count": 59
        }
      ]
    },
    {
      "cell_type": "code",
      "source": [
        "# インデックス番号を指定しなければ、最後の要素が取り除かれる\n",
        "stones.pop()"
      ],
      "metadata": {
        "colab": {
          "base_uri": "https://localhost:8080/"
        },
        "id": "i1r_63jfsz1K",
        "outputId": "71a097d1-3878-4cf3-f43c-bafe455b945c"
      },
      "execution_count": 60,
      "outputs": [
        {
          "output_type": "execute_result",
          "data": {
            "text/plain": [
              "10"
            ]
          },
          "metadata": {},
          "execution_count": 60
        }
      ]
    },
    {
      "cell_type": "code",
      "source": [
        "stones"
      ],
      "metadata": {
        "colab": {
          "base_uri": "https://localhost:8080/"
        },
        "id": "3CVRP5dutB6j",
        "outputId": "ac771498-cd49-4dc4-b15a-7a3436cd7009"
      },
      "execution_count": 61,
      "outputs": [
        {
          "output_type": "execute_result",
          "data": {
            "text/plain": [
              "[1, 2, 3, 4, 5, 6, 7, 8, 9, 12]"
            ]
          },
          "metadata": {},
          "execution_count": 61
        }
      ]
    },
    {
      "cell_type": "code",
      "source": [
        "def remove_largest(stones):\n",
        "    index_of_largest = stones.index(max(stones))\n",
        "    # 一番重い石が取り除かれるように、順番を入れ替える。\n",
        "    stones[index_of_largest], stones[-1] = stones[-1], stones[index_of_largest]\n",
        "    return stones.pop()"
      ],
      "metadata": {
        "id": "GvoO5GH3tEUz"
      },
      "execution_count": 62,
      "outputs": []
    },
    {
      "cell_type": "code",
      "source": [
        "stones = [0,1,2,3,4,5,6,7,8,9]"
      ],
      "metadata": {
        "id": "VwxELhVyuhx2"
      },
      "execution_count": 63,
      "outputs": []
    },
    {
      "cell_type": "code",
      "source": [
        "stone1 = remove_largest(stones)\n",
        "print(\"取り除かれた要素は\" + str(stone1) + \"です。\")\n",
        "print(\"現在のリストの中身は\" + str(stones) + \"です。\")"
      ],
      "metadata": {
        "colab": {
          "base_uri": "https://localhost:8080/"
        },
        "id": "C1TvjbY5usE6",
        "outputId": "cfb9cbed-c75d-4f32-aa8a-fc31ca9f39df"
      },
      "execution_count": 64,
      "outputs": [
        {
          "output_type": "stream",
          "name": "stdout",
          "text": [
            "取り除かれた要素は9です。\n",
            "現在のリストの中身は[0, 1, 2, 3, 4, 5, 6, 7, 8]です。\n"
          ]
        }
      ]
    },
    {
      "cell_type": "code",
      "source": [
        "stones[0] if stones else 0"
      ],
      "metadata": {
        "colab": {
          "base_uri": "https://localhost:8080/"
        },
        "id": "VrntV-kWu8yi",
        "outputId": "1f177ce8-a9b8-4115-ae00-1bd572ebb6eb"
      },
      "execution_count": 65,
      "outputs": [
        {
          "output_type": "execute_result",
          "data": {
            "text/plain": [
              "0"
            ]
          },
          "metadata": {},
          "execution_count": 65
        }
      ]
    },
    {
      "cell_type": "code",
      "source": [
        "if stones:\n",
        "    stones[0]\n",
        "else:\n",
        "    0"
      ],
      "metadata": {
        "id": "NOhP9tUMwm9h"
      },
      "execution_count": 66,
      "outputs": []
    },
    {
      "cell_type": "code",
      "source": [
        "l1 = [3, 4, 6, 0, 1]\n",
        "# もし２で割って余りがあるなら奇数（odd）、なければ偶数（even）を返す。l1の要素すべてについて行う。\n",
        "# リスト内包表記は、結果、条件式、ループ式の順\n",
        "l2 = ['odd' if x % 2 else 'even' for x in l1]\n",
        "print(l2)"
      ],
      "metadata": {
        "colab": {
          "base_uri": "https://localhost:8080/"
        },
        "id": "uTgYRLNjw3CU",
        "outputId": "0117764f-d663-4217-b734-90b0e1dffe05"
      },
      "execution_count": 71,
      "outputs": [
        {
          "output_type": "stream",
          "name": "stdout",
          "text": [
            "['odd', 'even', 'even', 'even', 'odd']\n"
          ]
        }
      ]
    },
    {
      "cell_type": "code",
      "source": [
        "type(l1)"
      ],
      "metadata": {
        "colab": {
          "base_uri": "https://localhost:8080/"
        },
        "id": "vCa5LUpfw-Tb",
        "outputId": "d9d27868-5fe1-4d35-eb0c-edcf69e77c70"
      },
      "execution_count": 72,
      "outputs": [
        {
          "output_type": "execute_result",
          "data": {
            "text/plain": [
              "list"
            ]
          },
          "metadata": {},
          "execution_count": 72
        }
      ]
    },
    {
      "cell_type": "code",
      "source": [
        "type(l2)"
      ],
      "metadata": {
        "colab": {
          "base_uri": "https://localhost:8080/"
        },
        "id": "8GactRjDxfDK",
        "outputId": "4266af82-00be-4c67-9c8f-d368c91d174d"
      },
      "execution_count": 73,
      "outputs": [
        {
          "output_type": "execute_result",
          "data": {
            "text/plain": [
              "list"
            ]
          },
          "metadata": {},
          "execution_count": 73
        }
      ]
    },
    {
      "cell_type": "code",
      "source": [
        "3 % 2"
      ],
      "metadata": {
        "colab": {
          "base_uri": "https://localhost:8080/"
        },
        "id": "XnxFoUx7xhSQ",
        "outputId": "c25ed4f0-e44c-4a71-fb52-15331b5fcdfa"
      },
      "execution_count": 74,
      "outputs": [
        {
          "output_type": "execute_result",
          "data": {
            "text/plain": [
              "1"
            ]
          },
          "metadata": {},
          "execution_count": 74
        }
      ]
    },
    {
      "cell_type": "code",
      "source": [
        "2 % 2"
      ],
      "metadata": {
        "colab": {
          "base_uri": "https://localhost:8080/"
        },
        "id": "35SdOYUdyHpD",
        "outputId": "71c4435a-73e4-43f4-e1eb-70a8b5209f63"
      },
      "execution_count": 75,
      "outputs": [
        {
          "output_type": "execute_result",
          "data": {
            "text/plain": [
              "0"
            ]
          },
          "metadata": {},
          "execution_count": 75
        }
      ]
    },
    {
      "cell_type": "code",
      "source": [],
      "metadata": {
        "id": "TEzf3oxDyJEu"
      },
      "execution_count": null,
      "outputs": []
    }
  ]
}