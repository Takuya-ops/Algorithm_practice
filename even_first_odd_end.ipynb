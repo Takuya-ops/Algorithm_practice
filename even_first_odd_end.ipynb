{
  "nbformat": 4,
  "nbformat_minor": 0,
  "metadata": {
    "colab": {
      "provenance": []
    },
    "kernelspec": {
      "name": "python3",
      "display_name": "Python 3"
    },
    "language_info": {
      "name": "python"
    }
  },
  "cells": [
    {
      "cell_type": "code",
      "execution_count": 1,
      "metadata": {
        "id": "1-mgpECW5yEa"
      },
      "outputs": [],
      "source": [
        "from typing import List"
      ]
    },
    {
      "cell_type": "code",
      "source": [
        "def even_first_odd_end(numbers: list) -> None:\n",
        "    even_list, odd_list =  [], []\n",
        "    for num in numbers:\n",
        "        if num % 2 == 0:\n",
        "            even_list.append(num)\n",
        "        else:\n",
        "            odd_list.append(num)\n",
        "    # [:]がないと並び替えが実行されない\n",
        "    numbers[:] = even_list + odd_list"
      ],
      "metadata": {
        "id": "BcYMlsyn53XY"
      },
      "execution_count": 29,
      "outputs": []
    },
    {
      "cell_type": "code",
      "source": [
        "numbers = [1,2,3,4,5,6,7,8,9,10]"
      ],
      "metadata": {
        "id": "Xlj_UDSM6kU-"
      },
      "execution_count": 30,
      "outputs": []
    },
    {
      "cell_type": "code",
      "source": [
        "# 関数の実行\n",
        "even_first_odd_end(numbers)\n",
        "# 関数を直接プリントしてもNoneが出力される。\n",
        "print(even_first_odd_end(numbers))\n",
        "# 元のリストをプリントすると並び替えが実行されたあとのリストが返される\n",
        "print(numbers)"
      ],
      "metadata": {
        "colab": {
          "base_uri": "https://localhost:8080/"
        },
        "id": "WW1RYKDK7oiw",
        "outputId": "eb96f400-087d-4e03-a624-3303ff904d55"
      },
      "execution_count": 31,
      "outputs": [
        {
          "output_type": "stream",
          "name": "stdout",
          "text": [
            "None\n",
            "[2, 4, 6, 8, 10, 1, 3, 5, 7, 9]\n"
          ]
        }
      ]
    },
    {
      "cell_type": "code",
      "source": [
        "len(numbers)"
      ],
      "metadata": {
        "colab": {
          "base_uri": "https://localhost:8080/"
        },
        "id": "dbYXBnsu6-oJ",
        "outputId": "50fb7121-fe05-4c86-aaac-8f74adc6a0fa"
      },
      "execution_count": 9,
      "outputs": [
        {
          "output_type": "execute_result",
          "data": {
            "text/plain": [
              "10"
            ]
          },
          "metadata": {},
          "execution_count": 9
        }
      ]
    },
    {
      "cell_type": "code",
      "source": [
        "numbers[0]"
      ],
      "metadata": {
        "colab": {
          "base_uri": "https://localhost:8080/"
        },
        "id": "X5k6ZQ_37DSY",
        "outputId": "7ea581fa-5e47-4f5e-8eb6-ec5526d980ba"
      },
      "execution_count": 10,
      "outputs": [
        {
          "output_type": "execute_result",
          "data": {
            "text/plain": [
              "1"
            ]
          },
          "metadata": {},
          "execution_count": 10
        }
      ]
    },
    {
      "cell_type": "code",
      "source": [
        "numbers[:5]"
      ],
      "metadata": {
        "colab": {
          "base_uri": "https://localhost:8080/"
        },
        "id": "Ppqz3cZs66kz",
        "outputId": "55fe4326-f712-4b40-88af-0d0b079d62af"
      },
      "execution_count": 8,
      "outputs": [
        {
          "output_type": "execute_result",
          "data": {
            "text/plain": [
              "[1, 2, 3, 4, 5]"
            ]
          },
          "metadata": {},
          "execution_count": 8
        }
      ]
    },
    {
      "cell_type": "code",
      "source": [
        "numbers[5:]"
      ],
      "metadata": {
        "colab": {
          "base_uri": "https://localhost:8080/"
        },
        "id": "dImw5G7m6udp",
        "outputId": "318955c6-5491-4fc2-c26c-ab78411e60d5"
      },
      "execution_count": 7,
      "outputs": [
        {
          "output_type": "execute_result",
          "data": {
            "text/plain": [
              "[6, 7, 8, 9, 10]"
            ]
          },
          "metadata": {},
          "execution_count": 7
        }
      ]
    },
    {
      "cell_type": "code",
      "source": [
        "numbers"
      ],
      "metadata": {
        "colab": {
          "base_uri": "https://localhost:8080/"
        },
        "id": "dmh1BXb36x5r",
        "outputId": "c7b20ac6-2e4b-44ee-ccd0-9b3b803c0947"
      },
      "execution_count": 5,
      "outputs": [
        {
          "output_type": "execute_result",
          "data": {
            "text/plain": [
              "[1, 2, 3, 4, 5, 6, 7, 8, 9, 10]"
            ]
          },
          "metadata": {},
          "execution_count": 5
        }
      ]
    },
    {
      "cell_type": "code",
      "source": [
        "from typing import List\n",
        "\n",
        "def even_first_odd_end(numbers: List[int]) -> None:\n",
        "    even_list, odd_list = [], []\n",
        "    for num in numbers:\n",
        "        if num % 2 == 0:\n",
        "            even_list.append(num)\n",
        "        else:\n",
        "            odd_list.append(num)\n",
        "    numbers[:] = even_list + odd_list\n",
        "\n",
        "if __name__ == \"__main__\":\n",
        "    list1 = [1,2,3,4,5,6,7,8,9,10]\n",
        "    even_first_odd_end(list1)\n",
        "    print(list1)"
      ],
      "metadata": {
        "colab": {
          "base_uri": "https://localhost:8080/"
        },
        "id": "K6hdoZ7I61Ib",
        "outputId": "74287c3e-9b60-4edb-8d84-ba6d863ec9a9"
      },
      "execution_count": 40,
      "outputs": [
        {
          "output_type": "stream",
          "name": "stdout",
          "text": [
            "[2, 4, 6, 8, 10, 1, 3, 5, 7, 9]\n"
          ]
        }
      ]
    },
    {
      "cell_type": "code",
      "source": [],
      "metadata": {
        "id": "JCtDmQhgCZPv"
      },
      "execution_count": null,
      "outputs": []
    }
  ]
}